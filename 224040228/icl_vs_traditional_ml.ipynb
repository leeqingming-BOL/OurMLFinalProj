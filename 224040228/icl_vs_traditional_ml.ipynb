{
  "cells": [
    {
      "cell_type": "code",
      "execution_count": null,
      "metadata": {
        "id": "HdwbWqrPH5ax"
      },
      "outputs": [],
      "source": [
        "# 安装必要库--> pip install -r requirements.txt\n",
        "from openai import OpenAI  # 导入OpenAI客户端库\n",
        "from sklearn.metrics import accuracy_score, classification_report  # 导入评估指标\n",
        "from sklearn.ensemble import RandomForestClassifier  # 随机森林分类器\n",
        "from sklearn.naive_bayes import MultinomialNB  # 朴素贝叶斯分类器\n",
        "from sklearn.feature_extraction.text import TfidfVectorizer  # TF-IDF特征提取\n",
        "from tqdm import tqdm  # 用于显示进度条\n",
        "from sklearn.model_selection import train_test_split  # 数据集分割\n",
        "from sklearn.datasets import fetch_20newsgroups  # 20Newsgroups数据集\n",
        "import numpy as np  # 数值计算库\n",
        "import pandas as pd  # 数据处理库\n",
        "import matplotlib.pyplot as plt  # 绘图库\n",
        "import re  # 正则表达式库"
      ]
    },
    {
      "cell_type": "code",
      "execution_count": null,
      "metadata": {
        "id": "eClxm5euJxYb"
      },
      "outputs": [],
      "source": [
        "# 选择部分类别加快实验速度（可扩展）\n",
        "categories = ['sci.space', 'rec.sport.baseball', 'talk.politics.mideast']"
      ]
    },
    {
      "cell_type": "code",
      "execution_count": null,
      "metadata": {
        "colab": {
          "base_uri": "https://localhost:8080/"
        },
        "id": "F8SXYRBBJ2AE",
        "outputId": "20d85314-54c1-448a-ea5d-cbfa840156ce"
      },
      "outputs": [
        {
          "name": "stdout",
          "output_type": "stream",
          "text": [
            "\n",
            "============================================================\n",
            "               数据集加载和统计分析               \n",
            "============================================================\n"
          ]
        },
        {
          "name": "stderr",
          "output_type": "stream",
          "text": [
            "加载数据集: 100%|██████████| 1/1 [00:03<00:00,  3.89s/it]\n"
          ]
        },
        {
          "name": "stdout",
          "output_type": "stream",
          "text": [
            "数据集大小: 2921\n",
            "\n",
            "[基本统计]\n",
            "总样本数: 2,921\n",
            "类别分布:\n",
            "0. rec.sport.baseball         994个样本 (34.0%)\n",
            "1. sci.space                  987个样本 (33.8%)\n",
            "2. talk.politics.mideast      940个样本 (32.2%)\n",
            "\n",
            "[数据分割]\n",
            "\n",
            "训练集 (2336个样本, 80.0%):\n",
            "  0. rec.sport.baseball    795个样本 (34.0%)\n",
            "  1. sci.space             789个样本 (33.8%)\n",
            "  2. talk.politics.mideast  752个样本 (32.2%)\n",
            "\n",
            "测试集 (585个样本, 20.0%):\n",
            "  0. rec.sport.baseball    199个样本 (34.0%)\n",
            "  1. sci.space             198个样本 (33.8%)\n",
            "  2. talk.politics.mideast  188个样本 (32.1%)\n",
            "\n",
            "朴素贝叶斯准确率: 0.9230769230769231\n",
            "\n",
            "随机森林准确率: 0.8957264957264958\n"
          ]
        }
      ],
      "source": [
        "# 数据加载和统计部分\n",
        "print(\"\\n\" + \"=\"*60)\n",
        "print(\"数据集加载和统计分析\".center(40))\n",
        "print(\"=\"*60)\n",
        "\n",
        "# 加载数据（带进度条）\n",
        "with tqdm(total=1, desc=\"加载数据集\") as pbar:\n",
        "    newsgroups = fetch_20newsgroups(\n",
        "        subset='all',  # 使用全部数据\n",
        "        categories=categories,  # 指定类别\n",
        "        remove=('headers', 'footers', 'quotes')  # 移除邮件头尾和引用\n",
        "    )\n",
        "    pbar.update(1)\n",
        "\n",
        "# 打印数据集基本信息\n",
        "print(f\"数据集大小: {len(newsgroups.data)}\")\n",
        "print(\"\\n[基本统计]\")\n",
        "print(f\"总样本数: {len(newsgroups.data):,}\")  # 千位分隔符\n",
        "print(\"类别分布:\")\n",
        "unique_values, counts = np.unique(newsgroups.target, return_counts=True)\n",
        "for idx, (value, count) in enumerate(zip(unique_values, counts)):\n",
        "    print(\n",
        "        f\"{idx}. {newsgroups.target_names[value]:<25} {count:>4}个样本 ({count/len(newsgroups.data):.1%})\")\n",
        "\n",
        "# 数据分割统计\n",
        "X_train, X_test, y_train, y_test = train_test_split(\n",
        "    newsgroups.data, newsgroups.target,\n",
        "    test_size=0.2,  # 测试集占比20%\n",
        "    random_state=42,  # 随机种子\n",
        "    stratify=newsgroups.target  # 分层抽样保持类别比例\n",
        ")\n",
        "\n",
        "print(\"\\n[数据分割]\")\n",
        "split_info = [\n",
        "    (\"训练集\", X_train, y_train),\n",
        "    (\"测试集\", X_test, y_test)\n",
        "]\n",
        "\n",
        "# 打印训练集和测试集分布\n",
        "for name, data, labels in split_info:\n",
        "    print(f\"\\n{name} ({len(data)}个样本, {len(data)/len(newsgroups.data):.1%}):\")\n",
        "    for idx in np.unique(labels):\n",
        "        count = sum(labels == idx)\n",
        "        print(\n",
        "            f\"  {idx}. {newsgroups.target_names[idx]:<20} {count:>4}个样本 ({count/len(data):.1%})\")\n",
        "\n",
        "# 特征工程\n",
        "tfidf = TfidfVectorizer(max_features=5000)  # 限制特征数量加快训练\n",
        "X_train_tfidf = tfidf.fit_transform(X_train)  # 训练集特征提取\n",
        "X_test_tfidf = tfidf.transform(X_test)  # 测试集特征转换\n",
        "\n",
        "# 朴素贝叶斯模型训练和评估\n",
        "nb = MultinomialNB()\n",
        "nb.fit(X_train_tfidf, y_train)\n",
        "nb_pred = nb.predict(X_test_tfidf)\n",
        "print(\"\\n朴素贝叶斯准确率:\", accuracy_score(y_test, nb_pred))\n",
        "\n",
        "# 随机森林模型训练和评估\n",
        "rf = RandomForestClassifier(n_estimators=100, random_state=42)\n",
        "rf.fit(X_train_tfidf, y_train)\n",
        "rf_pred = rf.predict(X_test_tfidf)\n",
        "print(\"\\n随机森林准确率:\", accuracy_score(y_test, rf_pred))"
      ]
    },
    {
      "cell_type": "code",
      "execution_count": null,
      "metadata": {
        "id": "pVFaa0U7KEgg"
      },
      "outputs": [],
      "source": [
        "# 安装SiliconFlow客户端\n",
        "# 已经在requirements.txt中添加，运行pip install -r requirements.txt安装\n",
        "\n",
        "# 设置API\n",
        "client = OpenAI(\n",
        "    api_key=\"YOUR_API_KEY_FROM_CLOUD_SILICONFLOW_CN\",\n",
        "    base_url=\"https://api.siliconflow.cn/v1\"\n",
        ")"
      ]
    },
    {
      "cell_type": "code",
      "execution_count": null,
      "metadata": {
        "id": "1EQmxra5KLHN"
      },
      "outputs": [],
      "source": [
        "# ICL提示模板设计\n",
        "\n",
        "\n",
        "def build_prompt(train_texts, train_labels, test_text):\n",
        "    \"\"\"\n",
        "    构建ICL(上下文学习)提示模板\n",
        "    参数:\n",
        "        train_texts: 训练文本列表\n",
        "        train_labels: 对应标签列表\n",
        "        test_text: 待预测文本\n",
        "    返回:\n",
        "        构造好的提示字符串\n",
        "    \"\"\"\n",
        "    instruction = \"\"\"请根据以下示例预测最后一个文本的类别标签(0/1/2)。\n",
        "    只输出#数字#，不要包含其他内容。\\n\"\"\"\n",
        "\n",
        "    examples = \"\"\n",
        "    for text, label in zip(train_texts, train_labels):\n",
        "        examples += f\"文本: {text[:200]}...\\n类别: {label}\\n\\n\"  # 截断长文本\n",
        "\n",
        "    query = f\"文本: {test_text[:200]}...\\n类别:\"\n",
        "\n",
        "    return instruction + examples + query\n"
      ]
    },
    {
      "cell_type": "code",
      "execution_count": null,
      "metadata": {
        "id": "5zyJFRdmKNap"
      },
      "outputs": [],
      "source": [
        "# ICL实现函数\n",
        "\n",
        "\n",
        "def run_llm_prediction(client, prompt, model=\"Qwen/Qwen2.5-7B-Instruct\", temperature=0):\n",
        "    \"\"\"\n",
        "    调用LLM进行预测\n",
        "    参数:\n",
        "        client: API客户端\n",
        "        prompt: 构造好的提示\n",
        "        model: 使用的模型名称\n",
        "        temperature: 生成温度\n",
        "    返回:\n",
        "        LLM的响应内容\n",
        "    \"\"\"\n",
        "    try:\n",
        "        response = client.chat.completions.create(\n",
        "            model=model,\n",
        "            messages=[{\"role\": \"user\", \"content\": prompt}],\n",
        "            temperature=temperature,\n",
        "        )\n",
        "        return response.choices[0].message.content\n",
        "    except Exception as e:\n",
        "        print(f\"API调用错误: {e}\")\n",
        "        return None"
      ]
    },
    {
      "cell_type": "code",
      "execution_count": null,
      "metadata": {
        "id": "ym3RRqz5KPuL"
      },
      "outputs": [],
      "source": [
        "# 提取预测结果\n",
        "\n",
        "\n",
        "def extract_prediction(response):\n",
        "    \"\"\"\n",
        "    从LLM响应中提取预测结果\n",
        "    参数:\n",
        "        response: LLM的响应文本\n",
        "    返回:\n",
        "        提取的预测类别(0/1/2)或None(提取失败)\n",
        "    \"\"\"\n",
        "    if response is None:\n",
        "        return None\n",
        "\n",
        "    # 尝试提取#数字#格式的结果\n",
        "    match = re.search(r'#(\\d+)#', response)\n",
        "    if match:\n",
        "        return int(match.group(1))\n",
        "    else:\n",
        "        # 尝试直接提取数字\n",
        "        match = re.search(r'\\d+', response)\n",
        "        if match:\n",
        "            return int(match.group(0))\n",
        "        return None\n"
      ]
    },
    {
      "cell_type": "code",
      "execution_count": null,
      "metadata": {
        "colab": {
          "base_uri": "https://localhost:8080/"
        },
        "id": "k3qY6shDUL1H",
        "outputId": "7615289d-dd99-46da-9456-cb0c079d246c"
      },
      "outputs": [
        {
          "name": "stderr",
          "output_type": "stream",
          "text": [
            "100%|██████████| 585/585 [38:40<00:00,  3.97s/it]"
          ]
        },
        {
          "name": "stdout",
          "output_type": "stream",
          "text": [
            "样本数量: 5, ICL准确率: 0.5744\n"
          ]
        },
        {
          "name": "stderr",
          "output_type": "stream",
          "text": [
            "\n"
          ]
        }
      ],
      "source": [
        "# 为了避免API调用时触发速率限制，手动设置样本数量\n",
        "n = 5  # 根据需要修改为 5，10, 20, 50 等\n",
        "\n",
        "correct = 0  # 正确预测计数\n",
        "for i in tqdm(range(len(X_test))):\n",
        "    # 随机选择n个训练样本\n",
        "    train_indices = np.random.choice(len(X_train), n, replace=False)\n",
        "    prompt = build_prompt(\n",
        "        [X_train[j] for j in train_indices],\n",
        "        [y_train[j] for j in train_indices],\n",
        "        X_test[i]\n",
        "    )\n",
        "    response = run_llm_prediction(client, prompt)\n",
        "    pred = extract_prediction(response)\n",
        "    if pred == y_test[i]:\n",
        "        correct += 1\n",
        "\n",
        "accuracy = correct / len(X_test)\n",
        "print(f\"样本数量: {n}, ICL准确率: {accuracy:.4f}\")\n"
      ]
    },
    {
      "cell_type": "code",
      "execution_count": null,
      "metadata": {
        "colab": {
          "base_uri": "https://localhost:8080/"
        },
        "id": "E0ISzZmGwMSD",
        "outputId": "15ec7140-5099-4b67-c7dc-2334c3e52418"
      },
      "outputs": [
        {
          "name": "stderr",
          "output_type": "stream",
          "text": [
            "100%|██████████| 585/585 [39:03<00:00,  4.01s/it]"
          ]
        },
        {
          "name": "stdout",
          "output_type": "stream",
          "text": [
            "样本数量: 10, ICL准确率: 0.6410\n"
          ]
        },
        {
          "name": "stderr",
          "output_type": "stream",
          "text": [
            "\n"
          ]
        }
      ],
      "source": [
        "# 为了避免API调用时触发速率限制，手动设置样本数量\n",
        "n = 10  # 根据需要修改为 5，10, 20, 50 等\n",
        "\n",
        "correct = 0  # 正确预测计数\n",
        "for i in tqdm(range(len(X_test))):\n",
        "    # 随机选择n个训练样本\n",
        "    train_indices = np.random.choice(len(X_train), n, replace=False)\n",
        "    prompt = build_prompt(\n",
        "        [X_train[j] for j in train_indices],\n",
        "        [y_train[j] for j in train_indices],\n",
        "        X_test[i]\n",
        "    )\n",
        "    response = run_llm_prediction(client, prompt)\n",
        "    pred = extract_prediction(response)\n",
        "    if pred == y_test[i]:\n",
        "        correct += 1\n",
        "\n",
        "accuracy = correct / len(X_test)\n",
        "print(f\"样本数量: {n}, ICL准确率: {accuracy:.4f}\")\n"
      ]
    },
    {
      "cell_type": "code",
      "execution_count": null,
      "metadata": {
        "colab": {
          "base_uri": "https://localhost:8080/"
        },
        "id": "IR1w0sm94rs4",
        "outputId": "9cd9e090-7108-4095-893e-d7730ab6a4b9"
      },
      "outputs": [
        {
          "name": "stderr",
          "output_type": "stream",
          "text": [
            "100%|██████████| 585/585 [37:50<00:00,  3.88s/it]"
          ]
        },
        {
          "name": "stdout",
          "output_type": "stream",
          "text": [
            "样本数量: 20, ICL准确率: 0.7145\n"
          ]
        },
        {
          "name": "stderr",
          "output_type": "stream",
          "text": [
            "\n"
          ]
        }
      ],
      "source": [
        "# 为了避免API调用时触发速率限制，手动设置样本数量\n",
        "n = 20  # 根据需要修改为 5，10, 20, 50 等\n",
        "\n",
        "correct = 0  # 正确预测计数\n",
        "for i in tqdm(range(len(X_test))):\n",
        "    # 随机选择n个训练样本\n",
        "    train_indices = np.random.choice(len(X_train), n, replace=False)\n",
        "    prompt = build_prompt(\n",
        "        [X_train[j] for j in train_indices],\n",
        "        [y_train[j] for j in train_indices],\n",
        "        X_test[i]\n",
        "    )\n",
        "    response = run_llm_prediction(client, prompt)\n",
        "    pred = extract_prediction(response)\n",
        "    if pred == y_test[i]:\n",
        "        correct += 1\n",
        "\n",
        "accuracy = correct / len(X_test)\n",
        "print(f\"样本数量: {n}, ICL准确率: {accuracy:.4f}\")"
      ]
    },
    {
      "cell_type": "code",
      "execution_count": null,
      "metadata": {
        "colab": {
          "base_uri": "https://localhost:8080/"
        },
        "id": "4R98Tabd4099",
        "outputId": "2bb45451-9b44-4064-e679-a4a7a4a9883b"
      },
      "outputs": [
        {
          "name": "stderr",
          "output_type": "stream",
          "text": [
            "100%|██████████| 585/585 [39:04<00:00,  4.01s/it]"
          ]
        },
        {
          "name": "stdout",
          "output_type": "stream",
          "text": [
            "样本数量: 50, ICL准确率: 0.7624\n"
          ]
        },
        {
          "name": "stderr",
          "output_type": "stream",
          "text": [
            "\n"
          ]
        }
      ],
      "source": [
        "# 为了避免API调用时触发速率限制，手动设置样本数量\n",
        "n = 50  # 根据需要修改为 5，10, 20, 50 等\n",
        "\n",
        "correct = 0  # 正确预测计数\n",
        "for i in tqdm(range(len(X_test))):\n",
        "    # 随机选择n个训练样本\n",
        "    train_indices = np.random.choice(len(X_train), n, replace=False)\n",
        "    prompt = build_prompt(\n",
        "        [X_train[j] for j in train_indices],\n",
        "        [y_train[j] for j in train_indices],\n",
        "        X_test[i]\n",
        "    )\n",
        "    response = run_llm_prediction(client, prompt)\n",
        "    pred = extract_prediction(response)\n",
        "    if pred == y_test[i]:\n",
        "        correct += 1\n",
        "\n",
        "accuracy = correct / len(X_test)\n",
        "print(f\"样本数量: {n}, ICL准确率: {accuracy:.4f}\")"
      ]
    },
    {
      "cell_type": "code",
      "execution_count": null,
      "metadata": {
        "colab": {
          "base_uri": "https://localhost:8080/"
        },
        "id": "KwwJu6BhJztf",
        "outputId": "e9389d76-75d4-48bd-d997-ba434e89efd5"
      },
      "outputs": [
        {
          "name": "stderr",
          "output_type": "stream",
          "text": [
            "100%|██████████| 585/585 [42:37<00:00,  4.37s/it]"
          ]
        },
        {
          "name": "stdout",
          "output_type": "stream",
          "text": [
            "模型: Qwen/Qwen2-7B-Instruct, ICL准确率: 0.6205\n"
          ]
        },
        {
          "name": "stderr",
          "output_type": "stream",
          "text": [
            "\n"
          ]
        }
      ],
      "source": [
        "# 测试不同版本模型的性能\n",
        "# 手动设置模型名称，无需循环\n",
        "model = \"Qwen/Qwen2-7B-Instruct\"\n",
        "\n",
        "correct = 0\n",
        "for i in tqdm(range(len(X_test))):\n",
        "    # 使用固定数量的示例(10个)\n",
        "    train_indices = np.random.choice(len(X_train), 10, replace=False)\n",
        "    prompt = build_prompt(\n",
        "        [X_train[j] for j in train_indices],\n",
        "        [y_train[j] for j in train_indices],\n",
        "        X_test[i]\n",
        "    )\n",
        "    response = run_llm_prediction(client, prompt, model=model)\n",
        "    pred = extract_prediction(response)\n",
        "    if pred == y_test[i]:\n",
        "        correct += 1\n",
        "\n",
        "accuracy = correct / len(X_test)\n",
        "\n",
        "print(f\"模型: {model}, ICL准确率: {accuracy:.4f}\")"
      ]
    },
    {
      "cell_type": "code",
      "execution_count": null,
      "metadata": {
        "colab": {
          "base_uri": "https://localhost:8080/"
        },
        "id": "9TZCwponJ2jV",
        "outputId": "6fd9e7c1-00ff-47b5-de9b-cf1b488ae6c0"
      },
      "outputs": [
        {
          "name": "stderr",
          "output_type": "stream",
          "text": [
            "100%|██████████| 585/585 [37:13<00:00,  3.82s/it]"
          ]
        },
        {
          "name": "stdout",
          "output_type": "stream",
          "text": [
            "模型: Qwen/Qwen2.5-7B-Instruct, ICL准确率: 0.6376\n"
          ]
        },
        {
          "name": "stderr",
          "output_type": "stream",
          "text": [
            "\n"
          ]
        }
      ],
      "source": [
        "# 测试不同版本模型的性能\n",
        "# 手动设置模型名称，无需循环\n",
        "model = \"Qwen/Qwen2.5-7B-Instruct\"\n",
        "\n",
        "correct = 0\n",
        "for i in tqdm(range(len(X_test))):\n",
        "    # 使用固定数量的示例(10个)\n",
        "    train_indices = np.random.choice(len(X_train), 10, replace=False)\n",
        "    prompt = build_prompt(\n",
        "        [X_train[j] for j in train_indices],\n",
        "        [y_train[j] for j in train_indices],\n",
        "        X_test[i]\n",
        "    )\n",
        "    response = run_llm_prediction(client, prompt, model=model)\n",
        "    pred = extract_prediction(response)\n",
        "    if pred == y_test[i]:\n",
        "        correct += 1\n",
        "\n",
        "accuracy = correct / len(X_test)\n",
        "\n",
        "print(f\"模型: {model}, ICL准确率: {accuracy:.4f}\")"
      ]
    },
    {
      "cell_type": "code",
      "execution_count": null,
      "metadata": {
        "colab": {
          "base_uri": "https://localhost:8080/"
        },
        "id": "X18ShWwQK92t",
        "outputId": "b3a9bd40-7283-445a-8022-841d2fe5b041"
      },
      "outputs": [
        {
          "name": "stderr",
          "output_type": "stream",
          "text": [
            "100%|██████████| 585/585 [37:22<00:00,  3.83s/it]"
          ]
        },
        {
          "name": "stdout",
          "output_type": "stream",
          "text": [
            "模型: Qwen/Qwen2-1.5B-Instruct, ICL准确率: 0.3932\n"
          ]
        },
        {
          "name": "stderr",
          "output_type": "stream",
          "text": [
            "\n"
          ]
        }
      ],
      "source": [
        "# 测试不同大小模型的性能\n",
        "\n",
        "model = \"Qwen/Qwen2-1.5B-Instruct\"\n",
        "# 手动设置模型名称，无需循环\n",
        "\n",
        "correct = 0\n",
        "for i in tqdm(range(len(X_test))):\n",
        "    # 使用固定数量的示例(10个)\n",
        "    train_indices = np.random.choice(len(X_train), 10, replace=False)\n",
        "    prompt = build_prompt(\n",
        "        [X_train[j] for j in train_indices],\n",
        "        [y_train[j] for j in train_indices],\n",
        "        X_test[i]\n",
        "    )\n",
        "    response = run_llm_prediction(client, prompt, model=model)\n",
        "    pred = extract_prediction(response)\n",
        "    if pred == y_test[i]:\n",
        "        correct += 1\n",
        "\n",
        "accuracy = correct / len(X_test)\n",
        "\n",
        "print(f\"模型: {model}, ICL准确率: {accuracy:.4f}\")"
      ]
    },
    {
      "cell_type": "code",
      "execution_count": null,
      "metadata": {
        "colab": {
          "base_uri": "https://localhost:8080/"
        },
        "id": "ECOCLX6dLcI3",
        "outputId": "b92b42ea-c0ed-47d7-f513-0d78b27977e6"
      },
      "outputs": [
        {
          "name": "stderr",
          "output_type": "stream",
          "text": [
            "100%|██████████| 585/585 [42:26<00:00,  4.35s/it]"
          ]
        },
        {
          "name": "stdout",
          "output_type": "stream",
          "text": [
            "模型: Qwen/Qwen2-7B-Instruct, ICL准确率: 0.6325\n"
          ]
        },
        {
          "name": "stderr",
          "output_type": "stream",
          "text": [
            "\n"
          ]
        }
      ],
      "source": [
        "# 测试不同大小模型的性能\n",
        "\n",
        "model = \"Qwen/Qwen2-7B-Instruct\"\n",
        "# 手动设置模型名称，无需循环\n",
        "\n",
        "correct = 0\n",
        "for i in tqdm(range(len(X_test))):\n",
        "    # 使用固定数量的示例(10个)\n",
        "    train_indices = np.random.choice(len(X_train), 10, replace=False)\n",
        "    prompt = build_prompt(\n",
        "        [X_train[j] for j in train_indices],\n",
        "        [y_train[j] for j in train_indices],\n",
        "        X_test[i]\n",
        "    )\n",
        "    response = run_llm_prediction(client, prompt, model=model)\n",
        "    pred = extract_prediction(response)\n",
        "    if pred == y_test[i]:\n",
        "        correct += 1\n",
        "\n",
        "accuracy = correct / len(X_test)\n",
        "\n",
        "print(f\"模型: {model}, ICL准确率: {accuracy:.4f}\")"
      ]
    },
    {
      "cell_type": "code",
      "execution_count": null,
      "metadata": {
        "id": "W9lhvGBPKXyp"
      },
      "outputs": [],
      "source": [
        "# 定义不同的提示模板\n",
        "\n",
        "\n",
        "def build_prompt_simple(train_texts, train_labels, test_text):\n",
        "    \"\"\"简单提示模板\"\"\"\n",
        "    instruction = \"预测类别: \"\n",
        "    examples = \"\"\n",
        "    for text, label in zip(train_texts, train_labels):\n",
        "        examples += f\"'{text[:100]}': {label}\\n\"\n",
        "    query = f\"'{test_text[:100]}': \"\n",
        "    return instruction + examples + query\n",
        "\n",
        "\n",
        "def build_prompt_detailed(train_texts, train_labels, test_text):\n",
        "    # 详细提示\n",
        "    instruction = \"\"\"分析以下示例并分类新文本。\n",
        "    示例中有不同类别的新闻文本(0=科学太空, 1=棒球运动, 2=中东政治)。\n",
        "    只输出分类数字(0/1/2)，格式为: #数字#\\n\\n\"\"\"\n",
        "    examples = \"\"\n",
        "    for text, label in zip(train_texts, train_labels):\n",
        "        examples += f\"示例文本: {text[:150]}...\\n分类: {label}\\n\\n\"\n",
        "    query = f\"请分类:\\n{test_text[:150]}...\\n分类: \"\n",
        "    return instruction + examples + query\n"
      ]
    },
    {
      "cell_type": "code",
      "execution_count": null,
      "metadata": {
        "colab": {
          "base_uri": "https://localhost:8080/"
        },
        "id": "1Zb3kSz1QOq0",
        "outputId": "30eab73f-f049-434c-ea3d-c0d2e7139d0a"
      },
      "outputs": [
        {
          "name": "stderr",
          "output_type": "stream",
          "text": [
            "100%|██████████| 585/585 [1:56:27<00:00, 11.95s/it]"
          ]
        },
        {
          "name": "stdout",
          "output_type": "stream",
          "text": [
            "提示类型: 简单提示, ICL准确率: 0.3043\n"
          ]
        },
        {
          "name": "stderr",
          "output_type": "stream",
          "text": [
            "\n"
          ]
        }
      ],
      "source": [
        "# 测试简单提示模板\n",
        "name = \"简单提示\"\n",
        "correct = 0  # 正确预测计数\n",
        "for i in tqdm(range(len(X_test))):  # 遍历测试集\n",
        "    # 随机选择10个训练样本作为示例\n",
        "    train_indices = np.random.choice(len(X_train), 10, replace=False)\n",
        "    # 构建提示\n",
        "    prompt = build_prompt_simple(\n",
        "        [X_train[j] for j in train_indices],\n",
        "        [y_train[j] for j in train_indices],\n",
        "        X_test[i]\n",
        "    )\n",
        "    # 调用LLM进行预测\n",
        "    response = run_llm_prediction(client, prompt)\n",
        "    # 提取预测结果\n",
        "    pred = extract_prediction(response)\n",
        "    if pred == y_test[i]:  # 判断预测是否正确\n",
        "        correct += 1\n",
        "\n",
        "# 计算并直接打印准确率\n",
        "accuracy = correct / len(X_test)\n",
        "print(f\"提示类型: {name}, ICL准确率: {accuracy:.4f}\")"
      ]
    },
    {
      "cell_type": "code",
      "execution_count": null,
      "metadata": {
        "colab": {
          "base_uri": "https://localhost:8080/"
        },
        "id": "16NU7VkkRo1G",
        "outputId": "3e31a543-6dd6-4322-dc0c-3f7eda0e59b6"
      },
      "outputs": [
        {
          "name": "stderr",
          "output_type": "stream",
          "text": [
            "100%|██████████| 585/585 [37:26<00:00,  3.84s/it]"
          ]
        },
        {
          "name": "stdout",
          "output_type": "stream",
          "text": [
            "提示类型: 原始提示, ICL准确率: 0.6650\n"
          ]
        },
        {
          "name": "stderr",
          "output_type": "stream",
          "text": [
            "\n"
          ]
        }
      ],
      "source": [
        "# 测试原始提示模板\n",
        "name = \"原始提示\"\n",
        "correct = 0  # 正确预测计数\n",
        "for i in tqdm(range(len(X_test))):  # 遍历测试集\n",
        "    # 随机选择10个训练样本作为示例\n",
        "    train_indices = np.random.choice(len(X_train), 10, replace=False)\n",
        "    # 构建提示\n",
        "    prompt = build_prompt(\n",
        "        [X_train[j] for j in train_indices],\n",
        "        [y_train[j] for j in train_indices],\n",
        "        X_test[i]\n",
        "    )\n",
        "    # 调用LLM进行预测\n",
        "    response = run_llm_prediction(client, prompt)\n",
        "    # 提取预测结果\n",
        "    pred = extract_prediction(response)\n",
        "    if pred == y_test[i]:  # 判断预测是否正确\n",
        "        correct += 1\n",
        "\n",
        "# 计算并直接打印准确率\n",
        "accuracy = correct / len(X_test)\n",
        "print(f\"提示类型: {name}, ICL准确率: {accuracy:.4f}\")"
      ]
    },
    {
      "cell_type": "code",
      "execution_count": null,
      "metadata": {
        "colab": {
          "base_uri": "https://localhost:8080/"
        },
        "id": "KaBBsIspRrZJ",
        "outputId": "dc429d0b-796f-4847-cea3-65deec6fd88f"
      },
      "outputs": [
        {
          "name": "stderr",
          "output_type": "stream",
          "text": [
            "100%|██████████| 585/585 [37:44<00:00,  3.87s/it]"
          ]
        },
        {
          "name": "stdout",
          "output_type": "stream",
          "text": [
            "提示类型: 详细提示, ICL准确率: 0.3829\n"
          ]
        },
        {
          "name": "stderr",
          "output_type": "stream",
          "text": [
            "\n"
          ]
        }
      ],
      "source": [
        "# 测试详细提示模板\n",
        "name = \"详细提示\"\n",
        "correct = 0  # 正确预测计数\n",
        "for i in tqdm(range(len(X_test))):  # 遍历测试集\n",
        "    # 随机选择10个训练样本作为示例\n",
        "    train_indices = np.random.choice(len(X_train), 10, replace=False)\n",
        "    # 构建提示\n",
        "    prompt = build_prompt_detailed(\n",
        "        [X_train[j] for j in train_indices],\n",
        "        [y_train[j] for j in train_indices],\n",
        "        X_test[i]\n",
        "    )\n",
        "    # 调用LLM进行预测\n",
        "    response = run_llm_prediction(client, prompt)\n",
        "    # 提取预测结果\n",
        "    pred = extract_prediction(response)\n",
        "    if pred == y_test[i]:  # 判断预测是否正确\n",
        "        correct += 1\n",
        "\n",
        "# 计算并直接打印准确率\n",
        "accuracy = correct / len(X_test)\n",
        "print(f\"提示类型: {name}, ICL准确率: {accuracy:.4f}\")"
      ]
    }
  ],
  "metadata": {
    "colab": {
      "provenance": []
    },
    "kernelspec": {
      "display_name": "Python 3",
      "name": "python3"
    },
    "language_info": {
      "name": "python"
    }
  },
  "nbformat": 4,
  "nbformat_minor": 0
}
