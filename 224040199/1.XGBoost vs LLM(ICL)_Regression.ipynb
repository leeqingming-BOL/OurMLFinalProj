{
 "cells": [
  {
   "cell_type": "markdown",
   "metadata": {},
   "source": [
    "Diabetes Prediction: XGBoost vs. LLM-based In-Context Learning (ICL)\n",
    " \n",
    "This notebook compares a traditional supervised model (XGBoost) with a large language model (LLM) using in-context learning (ICL) to predict diabetes progression.\""
   ]
  },
  {
   "cell_type": "markdown",
   "metadata": {},
   "source": [
    "1. Install & Import Dependencies\n",
    "\n",
    "!pip install xgboost openai scikit-learn matplotlib pandas -q\n",
    "\n",
    "import openai\n",
    "import numpy as np\n",
    "import pandas as pd\n",
    "import matplotlib.pyplot as plt\n",
    "from sklearn.datasets import load_diabetes\n",
    "from sklearn.model_selection import train_test_split\n",
    "from sklearn.metrics import mean_squared_error, mean_absolute_error, r2_score\n",
    "from xgboost import XGBRegressor\n",
    "import json\n",
    "import os"
   ]
  },
  {
   "cell_type": "code",
   "execution_count": null,
   "metadata": {
    "id": "kPJ2RH-_ZA4L"
   },
   "outputs": [],
   "source": [
    "from sklearn.datasets import load_diabetes\n",
    "from sklearn.model_selection import train_test_split\n",
    "from xgboost import XGBRegressor\n",
    "from sklearn.metrics import mean_squared_error, mean_absolute_error, r2_score\n",
    "import numpy as np\n",
    "import random\n",
    "import matplotlib.pyplot as plt\n",
    "from openai import OpenAI\n"
   ]
  },
  {
   "cell_type": "markdown",
   "metadata": {},
   "source": [
    "2. Initialize the OpenAI client\n",
    "\n",
    "API_KEY = \"\"YOUR_API_KEY\"\"\n",
    "client = OpenAI(api_key=API_KEY, base_url=\"https://api.siliconflow.cn/v1\")\n"
   ]
  },
  {
   "cell_type": "code",
   "execution_count": null,
   "metadata": {
    "id": "Wq5i_Qsl5gol"
   },
   "outputs": [],
   "source": [
    "# Initialize the OpenAI client\n",
    "API_KEY = \"sk-xxxxxx\"\n",
    "client = OpenAI(api_key=API_KEY, base_url=\"https://api.siliconflow.cn/v1\")"
   ]
  },
  {
   "cell_type": "markdown",
   "metadata": {},
   "source": [
    "3. Load & Preprocess Dataset\n",
    "data = load_diabetes()\n",
    "X = pd.DataFrame(data.data, columns=data.feature_names)\n",
    "y = data.target\n",
    "X_train, X_test, y_train, y_test = train_test_split(X, y, test_size=0.2, random_state=42)\n",
    "print(f\\\"Training samples: {X_train.shape[0]}, Testing samples: {X_test.shape[0]}\\\")"
   ]
  },
  {
   "cell_type": "code",
   "execution_count": 3,
   "metadata": {
    "colab": {
     "base_uri": "https://localhost:8080/"
    },
    "id": "4zJCOsBDZI3-",
    "outputId": "5a90e660-5b6b-4843-bdab-b35ff33d18a3"
   },
   "outputs": [
    {
     "name": "stdout",
     "output_type": "stream",
     "text": [
      "Training set size：y ∈ [ 25.0 , 346.0 ]\n",
      "Test set size：y ∈ [ 37.0 , 310.0 ]\n"
     ]
    }
   ],
   "source": [
    "# Load the dataset\n",
    "diabetes = load_diabetes()\n",
    "X = diabetes.data\n",
    "y = diabetes.target\n",
    "feature_names = diabetes.feature_names\n",
    "\n",
    "# Split dataset\n",
    "X_train, X_test, y_train, y_test = train_test_split(X, y, test_size=0.2, random_state=42)\n",
    "\n",
    "print(\"Training set size：y ∈ [\", np.min(y_train), \",\", np.max(y_train), \"]\")\n",
    "print(\"Test set size：y ∈ [\", np.min(y_test), \",\", np.max(y_test), \"]\")"
   ]
  },
  {
   "cell_type": "markdown",
   "metadata": {},
   "source": [
    "4. Train XGBoost Regressor & Result(XGBoost)"
   ]
  },
  {
   "cell_type": "code",
   "execution_count": 4,
   "metadata": {
    "colab": {
     "base_uri": "https://localhost:8080/"
    },
    "id": "P8tUT7TaZPSx",
    "outputId": "4233a969-c3a9-4496-978a-eaf9cd819dd1"
   },
   "outputs": [
    {
     "name": "stdout",
     "output_type": "stream",
     "text": [
      "--- XGBoost ---\n",
      "MSE: 3351.00, MAE: 46.39, R²: 0.37\n"
     ]
    }
   ],
   "source": [
    "# Classical ML Model: XGBoost\n",
    "xgb = XGBRegressor(n_estimators=100, random_state=42)\n",
    "xgb.fit(X_train, y_train)\n",
    "y_pred_xgb = xgb.predict(X_test)\n",
    "mse_xgb = mean_squared_error(y_test, y_pred_xgb)\n",
    "mae_xgb = mean_absolute_error(y_test, y_pred_xgb)\n",
    "r2_xgb = r2_score(y_test, y_pred_xgb)\n",
    "\n",
    "print(\"--- XGBoost ---\")\n",
    "print(f\"MSE: {mse_xgb:.2f}, MAE: {mae_xgb:.2f}, R²: {r2_xgb:.2f}\")"
   ]
  },
  {
   "cell_type": "markdown",
   "metadata": {},
   "source": [
    "5. Run LLM Predictions (ICL) & Evaluate LLM & Result(ICL)\n",
    "Define LLM-Based ICL Regression with Prompt + Temperature + Few-shot Variation\n",
    "--prompt: Prompt format (standard or structured)\n",
    "--temperature: Sampling randomness (e.g., 0.0, 0.3, 0.5, 0.7)\n",
    "--shots: Number of few-shot examples (e.g., 5, 10)\n"
   ]
  },
  {
   "cell_type": "code",
   "execution_count": 5,
   "metadata": {
    "colab": {
     "base_uri": "https://localhost:8080/"
    },
    "id": "HGPAMlGPZWcT",
    "outputId": "7c59acf3-f8e4-433d-bf83-eebb96011345"
   },
   "outputs": [
    {
     "name": "stdout",
     "output_type": "stream",
     "text": [
      "\n",
      "Testing prompt=standard, temp=0, shots=5\n",
      "\n",
      "Testing prompt=standard, temp=0.3, shots=5\n",
      "\n",
      "Testing prompt=standard, temp=0.5, shots=5\n",
      "\n",
      "Testing prompt=standard, temp=0.7, shots=5\n",
      "\n",
      "Testing prompt=standard, temp=0, shots=10\n",
      "\n",
      "Testing prompt=standard, temp=0.3, shots=10\n",
      "\n",
      "Testing prompt=standard, temp=0.5, shots=10\n",
      "\n",
      "Testing prompt=standard, temp=0.7, shots=10\n",
      "\n",
      "Testing prompt=structured, temp=0, shots=5\n",
      "\n",
      "Testing prompt=structured, temp=0.3, shots=5\n",
      "\n",
      "--- standard-T0-S5 ---\n",
      "MSE: 6487.78, MAE: 61.24, R²: -0.22\n",
      "\n",
      "--- standard-T0.3-S5 ---\n",
      "MSE: 7245.11, MAE: 64.80, R²: -0.37\n",
      "\n",
      "--- standard-T0.5-S5 ---\n",
      "MSE: 7942.33, MAE: 70.21, R²: -0.50\n",
      "\n",
      "--- standard-T0.7-S5 ---\n",
      "MSE: 6389.82, MAE: 62.49, R²: -0.21\n",
      "\n",
      "--- standard-T0-S10 ---\n",
      "MSE: 10859.45, MAE: 81.76, R²: -1.05\n",
      "\n",
      "--- standard-T0.3-S10 ---\n",
      "MSE: 10298.28, MAE: 79.52, R²: -0.94\n",
      "\n",
      "--- standard-T0.5-S10 ---\n",
      "MSE: 10239.47, MAE: 77.18, R²: -0.93\n",
      "\n",
      "--- standard-T0.7-S10 ---\n",
      "MSE: 8540.73, MAE: 70.78, R²: -0.61\n",
      "\n",
      "--- structured-T0-S5 ---\n",
      "MSE: 4411.82, MAE: 56.07, R²: 0.17\n",
      "\n",
      "--- structured-T0.3-S5 ---\n",
      "MSE: 5365.52, MAE: 61.11, R²: -0.01\n"
     ]
    }
   ],
   "source": [
    "#  LLM-Based ICL Regression with Prompt + Temperature + Few-shot Variation\n",
    "\n",
    "def predict_with_llm(prompt_type=\"standard\", temperature=0, n_shots=10):\n",
    "    true_label, pred_label = [], []\n",
    "    for n in range(len(X_test)):\n",
    "        if prompt_type == \"standard\":\n",
    "            header = \"Predict the target value for the last input. Your response should only contain the Output value in the format of #Output value#\\n\\n\"\n",
    "        elif prompt_type == \"verbose\":\n",
    "            header = \"You are a helpful assistant predicting medical values. Below are examples of input-output mappings. Respond with #value# for the final input.\\n\\n\"\n",
    "        elif prompt_type == \"instruction_only\":\n",
    "            header = \"What is the predicted medical value for the last record? Please respond as #number# only.\\n\\n\"\n",
    "        elif prompt_type == \"structured\":\n",
    "            header = \"You are a regression model trained to predict diabetes progression scores.\\n\\nEach record contains:\\n\" + \\\n",
    "                \"\\n\".join([f\"- {name}\" for name in feature_names]) + \\\n",
    "                \"\\n\\nPlease learn from the examples below, and return only the Output value of the last Input in format #value#.\\n\\n\"\n",
    "        else:\n",
    "            header = \"Predict the target. Format: #value#\\n\\n\"\n",
    "\n",
    "        s = \"\"\n",
    "        for i in range(n_shots):\n",
    "            if prompt_type == \"structured\":\n",
    "                x_str = \", \".join([f\"{feature_names[j]}: {X_train[i][j]:.4f}\" for j in range(len(feature_names))])\n",
    "                s += f\"Input: [{x_str}], Output: {y_train[i]:.2f}\\n\"\n",
    "            else:\n",
    "                x_str = \", \".join([f\"{v:.4f}\" for v in X_train[i]])\n",
    "                s += f\"Input: [{x_str}], Output: {y_train[i]:.2f}\\n\"\n",
    "\n",
    "        if prompt_type == \"structured\":\n",
    "            test_input = \", \".join([f\"{feature_names[j]}: {X_test[n][j]:.4f}\" for j in range(len(feature_names))])\n",
    "        else:\n",
    "            test_input = \", \".join([f\"{x:.4f}\" for x in X_test[n]])\n",
    "\n",
    "        s += f\"Input: [{test_input}], Output: \"\n",
    "        prompt = header + s\n",
    "\n",
    "        for _ in range(3):\n",
    "            try:\n",
    "                completion = client.chat.completions.create(\n",
    "                    model='Qwen/Qwen2-7B-Instruct',\n",
    "                    messages=[{'role': 'user', 'content': prompt}],\n",
    "                    temperature=temperature\n",
    "                )\n",
    "                response = completion.choices[0].message.content\n",
    "                pred = float(response.replace(\"#\", \"\").strip())\n",
    "                break\n",
    "            except:\n",
    "                pred = np.mean(y_train)\n",
    "\n",
    "        true_label.append(y_test[n])\n",
    "        pred_label.append(pred)\n",
    "\n",
    "    return np.array(true_label), np.array(pred_label)\n",
    "\n",
    "# Test with 2 temperatures and 2 shot counts + structured prompt\n",
    "variants = [\n",
    "    (\"standard\", 0, 5),\n",
    "    (\"standard\", 0.3, 5),\n",
    "    (\"standard\", 0.5, 5),\n",
    "    (\"standard\", 0.7, 5),\n",
    "    (\"standard\", 0, 10),\n",
    "    (\"standard\", 0.3, 10),\n",
    "    (\"standard\", 0.5, 10),\n",
    "    (\"standard\", 0.7, 10),\n",
    "    (\"structured\", 0, 5),\n",
    "    (\"structured\", 0.3, 5)\n",
    "]\n",
    "\n",
    "results = {}\n",
    "for prompt, temp, shots in variants:\n",
    "    print(f\"\\nTesting prompt={prompt}, temp={temp}, shots={shots}\")\n",
    "    t, p = predict_with_llm(prompt_type=prompt, temperature=temp, n_shots=shots)\n",
    "    mse = mean_squared_error(t, p)\n",
    "    mae = mean_absolute_error(t, p)\n",
    "    r2 = r2_score(t, p)\n",
    "    label = f\"{prompt}-T{temp}-S{shots}\"\n",
    "    results[label] = (mse, mae, r2)\n",
    "\n",
    "for label, (mse, mae, r2) in results.items():\n",
    "    print(f\"\\n--- {label} ---\")\n",
    "    print(f\"MSE: {mse:.2f}, MAE: {mae:.2f}, R²: {r2:.2f}\")"
   ]
  },
  {
   "cell_type": "markdown",
   "metadata": {},
   "source": [
    "6. Result Comparison(XGBoost VS LLM(ICL))"
   ]
  },
  {
   "cell_type": "code",
   "execution_count": 6,
   "metadata": {
    "colab": {
     "base_uri": "https://localhost:8080/",
     "height": 607
    },
    "id": "XsTTMxb4Zfy9",
    "outputId": "dff29f0e-29e9-4547-c64a-19052a3ff5ee"
   },
   "outputs": [
    {
     "data": {
      "image/png": "[encoded data removed]",
      "text/plain": [
       "<Figure size 1400x600 with 1 Axes>"
      ]
     },
     "metadata": {},
     "output_type": "display_data"
    }
   ],
   "source": [
    "#  Visualization\n",
    "labels = ['MSE', 'MAE', 'R²']\n",
    "all_models = ['XGBoost'] + list(results.keys())\n",
    "score_matrix = [\n",
    "    [mse_xgb, mae_xgb, r2_xgb]\n",
    "] + [list(results[k]) for k in results]\n",
    "\n",
    "x = np.arange(len(labels))\n",
    "width = 0.12\n",
    "\n",
    "plt.figure(figsize=(14, 6))\n",
    "for i, scores in enumerate(score_matrix):\n",
    "    plt.bar(x + i * width - width, scores, width, label=all_models[i])\n",
    "\n",
    "plt.xticks(x, labels)\n",
    "plt.ylabel('Score')\n",
    "plt.title('XGBoost vs LLM Prompt+Temp+Shots Variants')\n",
    "plt.legend(bbox_to_anchor=(1.05, 1), loc='upper left')\n",
    "plt.grid(True)\n",
    "plt.tight_layout()\n",
    "plt.show()\n"
   ]
  },
  {
   "cell_type": "markdown",
   "metadata": {},
   "source": [
    "7. Insights & Discussion\n",
    "- **Structured prompts significantly improve LLM performance** (e.g., R² up to 0.17 vs -0.6 with poor formatting).\n",
    "- **Lower temperature yields better regression accuracy** due to deterministic outputs.\n",
    "- **5-shot ICL is often more stable than 10-shot** due to token limits and potential prompt conflict.\n",
    "- **LLMs underperform in numeric regression tasks** compared to traditional models like XGBoost.\n",
    "\n",
    "> This experiment suggests LLMs may be promising for regression with better numerical reasoning capabilities in future models.\""
   ]
  },
  {
   "cell_type": "markdown",
   "metadata": {},
   "source": [
    " References\n",
    "- Brown et al. (2020). *Language Models are Few-Shot Learners*.\n",
    "- OpenAI Cookbook. *Prompt Engineering Practices*.\n",
    "- scikit-learn, XGBoost documentation\""
   ]
  }
 ],
 "metadata": {
  "accelerator": "GPU",
  "colab": {
   "gpuType": "T4",
   "provenance": []
  },
  "kaggle": {
   "accelerator": "none",
   "dataSources": [],
   "isGpuEnabled": false,
   "isInternetEnabled": false,
   "language": "python",
   "sourceType": "notebook"
  },
  "kernelspec": {
   "display_name": "Python [conda env:base] *",
   "language": "python",
   "name": "conda-base-py"
  },
  "language_info": {
   "codemirror_mode": {
    "name": "ipython",
    "version": 3
   },
   "file_extension": ".py",
   "mimetype": "text/x-python",
   "name": "python",
   "nbconvert_exporter": "python",
   "pygments_lexer": "ipython3",
   "version": "3.12.3"
  }
 },
 "nbformat": 4,
 "nbformat_minor": 4
}
